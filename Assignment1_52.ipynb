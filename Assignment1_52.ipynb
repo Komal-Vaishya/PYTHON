{
  "nbformat": 4,
  "nbformat_minor": 0,
  "metadata": {
    "colab": {
      "provenance": [],
      "include_colab_link": true
    },
    "kernelspec": {
      "name": "python3",
      "display_name": "Python 3"
    },
    "language_info": {
      "name": "python"
    }
  },
  "cells": [
    {
      "cell_type": "markdown",
      "metadata": {
        "id": "view-in-github",
        "colab_type": "text"
      },
      "source": [
        "<a href=\"https://colab.research.google.com/github/Komal-Vaishya/PYTHON/blob/master/Assignment1_52.ipynb\" target=\"_parent\"><img src=\"https://colab.research.google.com/assets/colab-badge.svg\" alt=\"Open In Colab\"/></a>"
      ]
    },
    {
      "cell_type": "markdown",
      "source": [
        "KOMAL RAJESHKUMAR VAISHYA"
      ],
      "metadata": {
        "id": "Y0D2qy6A6jHu"
      }
    },
    {
      "cell_type": "code",
      "execution_count": null,
      "metadata": {
        "colab": {
          "base_uri": "https://localhost:8080/"
        },
        "id": "YCc7WqKW8XM9",
        "outputId": "08d48cd1-e347-4f0d-e1f4-8a8fac10eadf"
      },
      "outputs": [
        {
          "output_type": "stream",
          "name": "stdout",
          "text": [
            "\n",
            "1. Add Product\n",
            "2. Update Product Stock\n",
            "3. View Product Details\n",
            "4. Exit\n",
            "Enter your choice: 1\n",
            "Enter product name: Computer\n",
            "Enter product price: 20000\n",
            "Enter product stock: 10\n",
            "Product added successfully!\n",
            "\n",
            "1. Add Product\n",
            "2. Update Product Stock\n",
            "3. View Product Details\n",
            "4. Exit\n",
            "Enter your choice: 2\n",
            "Enter product name to update: Computer\n",
            "Enter quantity to add/remove: 2\n",
            "Stock updated successfully!\n",
            "\n",
            "1. Add Product\n",
            "2. Update Product Stock\n",
            "3. View Product Details\n",
            "4. Exit\n",
            "Enter your choice: 3\n",
            "Enter product name: Computer\n",
            "Product: Computer, Price: $20000.00, Stock: 12\n",
            "\n",
            "1. Add Product\n",
            "2. Update Product Stock\n",
            "3. View Product Details\n",
            "4. Exit\n",
            "Enter your choice: 4\n",
            "Exiting the system. Goodbye!\n"
          ]
        }
      ],
      "source": [
        "class Product:\n",
        "    def __init__(self, name, price, stock):\n",
        "        self.name = name\n",
        "        self.price = price\n",
        "        self.stock = stock\n",
        "\n",
        "    def update_stock(self, quantity):\n",
        "        self.stock += quantity\n",
        "        if self.stock < 0:\n",
        "            self.stock = 0\n",
        "\n",
        "    def __str__(self):\n",
        "        return f\"Product: {self.name}, Price: ${self.price:.2f}, Stock: {self.stock}\"\n",
        "\n",
        "class Store:\n",
        "    def __init__(self):\n",
        "        self.products = {}\n",
        "\n",
        "    def add_product(self, name, price, stock):\n",
        "        if name in self.products:\n",
        "            print(\"Product already exists!\")\n",
        "        else:\n",
        "            self.products[name] = Product(name, price, stock)\n",
        "            print(\"Product added successfully!\")\n",
        "\n",
        "    def update_product_stock(self, name, quantity):\n",
        "        if name in self.products:\n",
        "            self.products[name].update_stock(quantity)\n",
        "            print(\"Stock updated successfully!\")\n",
        "        else:\n",
        "            print(\"Product not found!\")\n",
        "\n",
        "    def view_product(self, name):\n",
        "        if name in self.products:\n",
        "            print(self.products[name])\n",
        "        else:\n",
        "            print(\"Product not found!\")\n",
        "\n",
        "def main():\n",
        "    store = Store()\n",
        "\n",
        "    while True:\n",
        "        print(\"\\n1. Add Product\")\n",
        "        print(\"2. Update Product Stock\")\n",
        "        print(\"3. View Product Details\")\n",
        "        print(\"4. Exit\")\n",
        "\n",
        "        choice = input(\"Enter your choice: \")\n",
        "\n",
        "        if choice == '1':\n",
        "            name = input(\"Enter product name: \")\n",
        "            price = float(input(\"Enter product price: \"))\n",
        "            stock = int(input(\"Enter product stock: \"))\n",
        "            store.add_product(name, price, stock)\n",
        "\n",
        "        elif choice == '2':\n",
        "            name = input(\"Enter product name to update: \")\n",
        "            quantity = int(input(\"Enter quantity to add/remove: \"))\n",
        "            store.update_product_stock(name, quantity)\n",
        "\n",
        "        elif choice == '3':\n",
        "            name = input(\"Enter product name: \")\n",
        "            store.view_product(name)\n",
        "\n",
        "        elif choice == '4':\n",
        "            print(\"Exiting the system. Goodbye!\")\n",
        "            break\n",
        "\n",
        "        else:\n",
        "            print(\"Invalid choice! Please try again.\")\n",
        "\n",
        "if __name__ == \"__main__\":\n",
        "    main()\n"
      ]
    }
  ]
}