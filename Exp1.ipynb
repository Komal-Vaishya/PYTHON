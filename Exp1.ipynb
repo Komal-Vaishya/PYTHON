{
  "nbformat": 4,
  "nbformat_minor": 0,
  "metadata": {
    "colab": {
      "provenance": [],
      "authorship_tag": "ABX9TyNgFIZepq1oWixyGwHjxMmf",
      "include_colab_link": true
    },
    "kernelspec": {
      "name": "python3",
      "display_name": "Python 3"
    },
    "language_info": {
      "name": "python"
    }
  },
  "cells": [
    {
      "cell_type": "markdown",
      "metadata": {
        "id": "view-in-github",
        "colab_type": "text"
      },
      "source": [
        "<a href=\"https://colab.research.google.com/github/Komal-Vaishya/PYTHON/blob/master/Exp1.ipynb\" target=\"_parent\"><img src=\"https://colab.research.google.com/assets/colab-badge.svg\" alt=\"Open In Colab\"/></a>"
      ]
    },
    {
      "cell_type": "markdown",
      "source": [
        "**Name:- Komal Rajeshkumar Vaishya  \n",
        "Class:- SE3  \n",
        "Roll no:- 52**"
      ],
      "metadata": {
        "id": "EzaxyaLACwdi"
      }
    },
    {
      "cell_type": "markdown",
      "source": [
        "Strings in Python"
      ],
      "metadata": {
        "id": "vcxrgpNbBMrr"
      }
    },
    {
      "cell_type": "code",
      "source": [
        "# Assigning string to a variable\n",
        "a = 'This is First string'\n",
        "print (a)\n",
        "b = \"This is Second string\"\n",
        "print (b)\n",
        "c= '''This is Third string'''\n",
        "print (c)"
      ],
      "metadata": {
        "colab": {
          "base_uri": "https://localhost:8080/"
        },
        "id": "m75DZrJTAaiN",
        "outputId": "5ac1a23b-a8da-4f76-a65c-886d500d9b67"
      },
      "execution_count": 3,
      "outputs": [
        {
          "output_type": "stream",
          "name": "stdout",
          "text": [
            "This is First string\n",
            "This is Second string\n",
            "This is Third string\n"
          ]
        }
      ]
    },
    {
      "cell_type": "markdown",
      "source": [
        "Lists in Python"
      ],
      "metadata": {
        "id": "JpdicHpJBRlk"
      }
    },
    {
      "cell_type": "code",
      "source": [
        "# Declaring a list\n",
        "L = [1, \"a\" , \"string\" , 1+2]\n",
        "print (L)\n",
        "\n",
        "#Adding an element in the list\n",
        "L.append(6)\n",
        "print (L)\n",
        "\n",
        "#Deleting last element from a list\n",
        "L.pop()\n",
        "print (L)\n",
        "\n",
        "#Displaying Second element of the list\n",
        "print (L[1])\n"
      ],
      "metadata": {
        "colab": {
          "base_uri": "https://localhost:8080/"
        },
        "id": "UuJufU7OAav-",
        "outputId": "6af4bf54-4e5e-4826-f779-3c6d06558f32"
      },
      "execution_count": 4,
      "outputs": [
        {
          "output_type": "stream",
          "name": "stdout",
          "text": [
            "[1, 'a', 'string', 3]\n",
            "[1, 'a', 'string', 3, 6]\n",
            "[1, 'a', 'string', 3]\n",
            "a\n"
          ]
        }
      ]
    },
    {
      "cell_type": "markdown",
      "source": [
        "Tupples in Python"
      ],
      "metadata": {
        "id": "8I8DqUdqBaUd"
      }
    },
    {
      "cell_type": "code",
      "source": [
        "\n",
        "tupple = (1, \"a\", \"string\", 1+2)\n",
        "print(tupple)\n",
        "print(tupple[1])"
      ],
      "metadata": {
        "colab": {
          "base_uri": "https://localhost:8080/"
        },
        "id": "lTtBJ0VtAa0F",
        "outputId": "c3bc96b0-1917-4adc-cc6d-cc6fd1e74dff"
      },
      "execution_count": 5,
      "outputs": [
        {
          "output_type": "stream",
          "name": "stdout",
          "text": [
            "(1, 'a', 'string', 3)\n",
            "a\n"
          ]
        }
      ]
    },
    {
      "cell_type": "markdown",
      "source": [
        "Dictionaries in Python"
      ],
      "metadata": {
        "id": "GuLBVONnBuys"
      }
    },
    {
      "cell_type": "code",
      "source": [
        "d = {1: 'Lorem', 2: 'Ipsum', 3: 'Dolerum'}\n",
        "print(d)\n",
        "\n",
        "# create dictionary using { }\n",
        "d1 = {1: 'Game', 2: 'of', 3: 'Thrones'}\n",
        "print(d1)\n",
        "\n",
        "# create dictionary using dict() constructor\n",
        "d2 = dict(a = \"House\", b = \"of\", c = \"Cards\")\n",
        "print(d2)"
      ],
      "metadata": {
        "colab": {
          "base_uri": "https://localhost:8080/"
        },
        "id": "33AYLsp5Aa5c",
        "outputId": "56dd2970-9530-40b6-fe58-49cd0b87244b"
      },
      "execution_count": 6,
      "outputs": [
        {
          "output_type": "stream",
          "name": "stdout",
          "text": [
            "{1: 'Lorem', 2: 'Ipsum', 3: 'Dolerum'}\n",
            "{1: 'Game', 2: 'of', 3: 'Thrones'}\n",
            "{'a': 'House', 'b': 'of', 'c': 'Cards'}\n"
          ]
        }
      ]
    },
    {
      "cell_type": "code",
      "source": [
        "d = { \"name\": \"Alice\", 1: \"Python\", (1, 2): [1,2,4] }\n",
        "\n",
        "# Access using key\n",
        "print(d[\"name\"])\n",
        "\n",
        "# Access using get()\n",
        "print(d.get(\"name\"))"
      ],
      "metadata": {
        "colab": {
          "base_uri": "https://localhost:8080/"
        },
        "id": "7zje_suuAa-1",
        "outputId": "e342a70a-378a-46dd-bfaf-0fa0fe1af5cf"
      },
      "execution_count": 10,
      "outputs": [
        {
          "output_type": "stream",
          "name": "stdout",
          "text": [
            "Alice\n",
            "Alice\n"
          ]
        }
      ]
    },
    {
      "cell_type": "code",
      "source": [
        "d = {1: 'Game', 2: 'of', 3: 'Thrones'}\n",
        "\n",
        "# Adding a new key-value pair\n",
        "d[\"age\"] = 22\n",
        "\n",
        "# Updating an existing value\n",
        "d[1] = \"Python dict\"\n",
        "\n",
        "print(d)"
      ],
      "metadata": {
        "colab": {
          "base_uri": "https://localhost:8080/"
        },
        "id": "Q03J7dagAbBk",
        "outputId": "e5729e60-17b7-4ce2-c0af-88199b1ac260"
      },
      "execution_count": 9,
      "outputs": [
        {
          "output_type": "stream",
          "name": "stdout",
          "text": [
            "{1: 'Python dict', 2: 'of', 3: 'Thrones', 'age': 22}\n"
          ]
        }
      ]
    },
    {
      "cell_type": "markdown",
      "source": [
        "Deleting a item in Dictionary"
      ],
      "metadata": {
        "id": "O2K9k2vJB3u_"
      }
    },
    {
      "cell_type": "code",
      "source": [
        "#Deleting a elements from the list\n",
        "my_dict = {'a': 1, 'b': 2, 'c': 3}\n",
        "del my_dict['a']\n",
        "print(my_dict)  # {'a': 1, 'c': 3}\n"
      ],
      "metadata": {
        "colab": {
          "base_uri": "https://localhost:8080/"
        },
        "id": "qHLbXiKrAbE7",
        "outputId": "c72615d9-16d8-4cea-fcc8-fb0194415492"
      },
      "execution_count": 8,
      "outputs": [
        {
          "output_type": "stream",
          "name": "stdout",
          "text": [
            "{'b': 2, 'c': 3}\n"
          ]
        }
      ]
    }
  ]
}