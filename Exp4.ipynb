{
  "nbformat": 4,
  "nbformat_minor": 0,
  "metadata": {
    "colab": {
      "provenance": [],
      "authorship_tag": "ABX9TyPCe9N1lAu33V9Vs7q9Qv2x",
      "include_colab_link": true
    },
    "kernelspec": {
      "name": "python3",
      "display_name": "Python 3"
    },
    "language_info": {
      "name": "python"
    }
  },
  "cells": [
    {
      "cell_type": "markdown",
      "metadata": {
        "id": "view-in-github",
        "colab_type": "text"
      },
      "source": [
        "<a href=\"https://colab.research.google.com/github/Komal-Vaishya/PYTHON/blob/master/Exp4.ipynb\" target=\"_parent\"><img src=\"https://colab.research.google.com/assets/colab-badge.svg\" alt=\"Open In Colab\"/></a>"
      ]
    },
    {
      "cell_type": "markdown",
      "source": [
        "**Name:- Komal Rajeshkumar Vaishya  \n",
        "Class:- SE3  \n",
        "Roll no:- 52**"
      ],
      "metadata": {
        "id": "wwG_LphwMy0D"
      }
    },
    {
      "cell_type": "code",
      "execution_count": 2,
      "metadata": {
        "colab": {
          "base_uri": "https://localhost:8080/"
        },
        "id": "Tk7dMn6ZLQ0C",
        "outputId": "ce184a87-4085-46ca-e433-d20772575714"
      },
      "outputs": [
        {
          "output_type": "stream",
          "name": "stdout",
          "text": [
            "Initial\n",
            "Middle\n",
            "read file content Hello from the function\n",
            "Appending to the file...\n",
            "Reading after append operation...\n",
            "Final content in the file: Hello from the functionThis is appended text!\n",
            "\n"
          ]
        }
      ],
      "source": [
        "from contextlib import contextmanager\n",
        "\n",
        "@contextmanager\n",
        "def genericFileFunction (filename, method):\n",
        "    file = open (filename, method)\n",
        "    yield file\n",
        "    file.close ()\n",
        "\n",
        "\n",
        "if __name__ == '__main__':\n",
        "    with genericFileFunction ('./file.txt', 'w') as f:\n",
        "        print ('Initial')\n",
        "        f.write ('Hello from the function')\n",
        "\n",
        "    with genericFileFunction ('./file.txt', 'r') as f:\n",
        "        print ('Middle')\n",
        "        content = f.read()\n",
        "        print(\"read file content\",content)\n",
        "\n",
        "    with genericFileFunction('./file.txt', 'a') as f:\n",
        "        print('Appending to the file...')\n",
        "        f.write('This is appended text!\\n')\n",
        "\n",
        "    with genericFileFunction('./file.txt', 'r') as f:\n",
        "        print('Reading after append operation...')\n",
        "        content = f.read()\n",
        "        print('Final content in the file:', content)"
      ]
    }
  ]
}