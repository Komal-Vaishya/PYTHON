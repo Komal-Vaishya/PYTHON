{
  "nbformat": 4,
  "nbformat_minor": 0,
  "metadata": {
    "colab": {
      "provenance": [],
      "authorship_tag": "ABX9TyM4aKNkTGCHyLRZwBCT4E1d",
      "include_colab_link": true
    },
    "kernelspec": {
      "name": "python3",
      "display_name": "Python 3"
    },
    "language_info": {
      "name": "python"
    }
  },
  "cells": [
    {
      "cell_type": "markdown",
      "metadata": {
        "id": "view-in-github",
        "colab_type": "text"
      },
      "source": [
        "<a href=\"https://colab.research.google.com/github/Komal-Vaishya/PYTHON/blob/master/Assignment3.ipynb\" target=\"_parent\"><img src=\"https://colab.research.google.com/assets/colab-badge.svg\" alt=\"Open In Colab\"/></a>"
      ]
    },
    {
      "cell_type": "markdown",
      "source": [
        "Name:- Komal Rajeshkumar Vaishya   \n",
        "Class:- SE3   \n",
        "Roll no:- 52"
      ],
      "metadata": {
        "id": "KjpapCylwUc5"
      }
    },
    {
      "cell_type": "code",
      "execution_count": 4,
      "metadata": {
        "colab": {
          "base_uri": "https://localhost:8080/"
        },
        "id": "AqzvNrnMvBo5",
        "outputId": "1867cffe-7374-4f6f-b7cc-8b4747a9648f"
      },
      "outputs": [
        {
          "output_type": "stream",
          "name": "stdout",
          "text": [
            "[4, 5, 1, 2, 3]\n",
            "[2, 0, 1]\n"
          ]
        }
      ],
      "source": [
        "class ListNode:\n",
        "  def __init__(self, val=0, next=None):\n",
        "    self.val = val\n",
        "    self.next = next\n",
        "\n",
        "def rotateRight(head, k):\n",
        "    if not head or not head.next or k == 0:\n",
        "      return head\n",
        "\n",
        "    length = 1\n",
        "    tail = head\n",
        "    while tail.next:\n",
        "      tail = tail.next\n",
        "      length += 1\n",
        "    tail.next = head\n",
        "    k = k % length\n",
        "    steps = length - k\n",
        "\n",
        "    for _ in range(steps):\n",
        "      tail = tail.next\n",
        "\n",
        "    new_head = tail.next\n",
        "    tail.next = None\n",
        "    return new_head\n",
        "\n",
        "def list_to_linked_list(lst):\n",
        "  head = ListNode(lst[0])\n",
        "  current = head\n",
        "  for val in lst[1:]:\n",
        "    current.next = ListNode(val)\n",
        "    current = current.next\n",
        "  return head\n",
        "\n",
        "def linked_list_to_list(head):\n",
        "  result = []\n",
        "  while head:\n",
        "    result.append(head.val)\n",
        "    head = head.next\n",
        "  return result\n",
        "\n",
        "head1 = list_to_linked_list([1, 2, 3, 4, 5])\n",
        "rotated1 = rotateRight(head1, 2)\n",
        "print(linked_list_to_list(rotated1))\n",
        "\n",
        "head2 = list_to_linked_list([0, 1, 2])\n",
        "rotated2 = rotateRight(head2, 4)\n",
        "print(linked_list_to_list(rotated2))\n"
      ]
    }
  ]
}