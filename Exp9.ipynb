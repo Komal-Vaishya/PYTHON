{
  "nbformat": 4,
  "nbformat_minor": 0,
  "metadata": {
    "colab": {
      "provenance": [],
      "authorship_tag": "ABX9TyN7/fprwxP9opmY/l2YLTJF",
      "include_colab_link": true
    },
    "kernelspec": {
      "name": "python3",
      "display_name": "Python 3"
    },
    "language_info": {
      "name": "python"
    }
  },
  "cells": [
    {
      "cell_type": "markdown",
      "metadata": {
        "id": "view-in-github",
        "colab_type": "text"
      },
      "source": [
        "<a href=\"https://colab.research.google.com/github/Komal-Vaishya/PYTHON/blob/master/Exp9.ipynb\" target=\"_parent\"><img src=\"https://colab.research.google.com/assets/colab-badge.svg\" alt=\"Open In Colab\"/></a>"
      ]
    },
    {
      "cell_type": "markdown",
      "source": [
        "**Name: Komal Rajeshkumar Vaishya  \n",
        "Class: SE3  \n",
        "Roll No.: 52**"
      ],
      "metadata": {
        "id": "f_TrNKCfeTBv"
      }
    },
    {
      "cell_type": "code",
      "execution_count": 2,
      "metadata": {
        "colab": {
          "base_uri": "https://localhost:8080/"
        },
        "id": "89BSe_75djyA",
        "outputId": "e16433d2-f217-4a18-c4a5-6a94586f03ab"
      },
      "outputs": [
        {
          "output_type": "stream",
          "name": "stdout",
          "text": [
            "Thread 1 - Number: 1\n",
            "Thread 2 - Letter: A\n",
            "Thread 3 - Square of 1: 1\n",
            "Thread 1 - Number: 2\n",
            "Thread 2 - Letter: B\n",
            "Thread 3 - Square of 2: 4\n",
            "Thread 1 - Number: 3\n",
            "Thread 2 - Letter: C\n",
            "Thread 3 - Square of 3: 9\n",
            "Thread 1 - Number: 4\n",
            "Thread 2 - Letter: D\n",
            "Thread 3 - Square of 4: 16\n",
            "Thread 1 - Number: 5\n",
            "Thread 2 - Letter: E\n",
            "Thread 3 - Square of 5: 25\n",
            "All threads have finished executing.\n"
          ]
        }
      ],
      "source": [
        "import threading\n",
        "import time\n",
        "\n",
        "def print_numbers():\n",
        "    for i in range(1, 6):\n",
        "        print(f\"Thread 1 - Number: {i}\")\n",
        "        time.sleep(1)\n",
        "\n",
        "def print_letters():\n",
        "    for letter in 'ABCDE':\n",
        "        print(f\"Thread 2 - Letter: {letter}\")\n",
        "        time.sleep(1)\n",
        "\n",
        "def print_squares():\n",
        "    for i in range(1, 6):\n",
        "        print(f\"Thread 3 - Square of {i}: {i ** 2}\")\n",
        "        time.sleep(1)\n",
        "\n",
        "# Creating threads\n",
        "thread1 = threading.Thread(target=print_numbers)\n",
        "thread2 = threading.Thread(target=print_letters)\n",
        "thread3 = threading.Thread(target=print_squares)\n",
        "\n",
        "# Starting threads\n",
        "thread1.start()\n",
        "thread2.start()\n",
        "thread3.start()\n",
        "\n",
        "# Ensuring all threads complete\n",
        "thread1.join()\n",
        "thread2.join()\n",
        "thread3.join()\n",
        "\n",
        "print(\"All threads have finished executing.\")"
      ]
    }
  ]
}