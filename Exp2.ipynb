{
  "nbformat": 4,
  "nbformat_minor": 0,
  "metadata": {
    "colab": {
      "provenance": [],
      "authorship_tag": "ABX9TyPlz4Fl2x/aCPrP2PtHjmc0",
      "include_colab_link": true
    },
    "kernelspec": {
      "name": "python3",
      "display_name": "Python 3"
    },
    "language_info": {
      "name": "python"
    }
  },
  "cells": [
    {
      "cell_type": "markdown",
      "metadata": {
        "id": "view-in-github",
        "colab_type": "text"
      },
      "source": [
        "<a href=\"https://colab.research.google.com/github/Komal-Vaishya/PYTHON/blob/master/Exp2.ipynb\" target=\"_parent\"><img src=\"https://colab.research.google.com/assets/colab-badge.svg\" alt=\"Open In Colab\"/></a>"
      ]
    },
    {
      "cell_type": "code",
      "source": [
        "class conditionalStatements:\n",
        "    def checkString(self, s: str) -> bool:\n",
        "        found_b = False  # Flag to track if 'b' has been encountered\n",
        "\n",
        "        for char in s:\n",
        "            if char == 'b':\n",
        "                found_b = True  # Mark that we've encountered a 'b'\n",
        "            elif char == 'a' and found_b:\n",
        "                # If 'a' comes after 'b', return false\n",
        "                return False\n",
        "\n",
        "        return True  # Return true if no violations were found\n",
        "obj = conditionalStatements()\n",
        "\n",
        "string_to_check = \"cbba\"\n",
        "result = obj.checkString(string_to_check)\n",
        "print(result)\n",
        "\n",
        "obj = conditionalStatements()\n",
        "\n",
        "string_to_check = \"aaabb\"\n",
        "result = obj.checkString(string_to_check)\n",
        "print(result)"
      ],
      "metadata": {
        "colab": {
          "base_uri": "https://localhost:8080/"
        },
        "id": "Slm5ih9T9Siv",
        "outputId": "60c047ad-6fbe-4f69-b942-14afdfce7a49"
      },
      "execution_count": 12,
      "outputs": [
        {
          "output_type": "stream",
          "name": "stdout",
          "text": [
            "False\n",
            "True\n"
          ]
        }
      ]
    }
  ]
}