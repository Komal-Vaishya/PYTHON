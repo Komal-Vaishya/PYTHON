{
  "nbformat": 4,
  "nbformat_minor": 0,
  "metadata": {
    "colab": {
      "provenance": [],
      "authorship_tag": "ABX9TyOa5/pquG5arqsOb0EXWw6J",
      "include_colab_link": true
    },
    "kernelspec": {
      "name": "python3",
      "display_name": "Python 3"
    },
    "language_info": {
      "name": "python"
    }
  },
  "cells": [
    {
      "cell_type": "markdown",
      "metadata": {
        "id": "view-in-github",
        "colab_type": "text"
      },
      "source": [
        "<a href=\"https://colab.research.google.com/github/Komal-Vaishya/PYTHON/blob/master/Exp2.ipynb\" target=\"_parent\"><img src=\"https://colab.research.google.com/assets/colab-badge.svg\" alt=\"Open In Colab\"/></a>"
      ]
    },
    {
      "cell_type": "code",
      "execution_count": 7,
      "metadata": {
        "id": "uaqPNrh87O4s"
      },
      "outputs": [],
      "source": [
        "class ConditionalStatements:\n",
        "    def checkString(self, s: str) -> bool:\n",
        "        found_b = False  # To track if we have encountered a 'b'\n",
        "\n",
        "        for char in s:\n",
        "            if char == 'b':\n",
        "                found_b = True  # We found a 'b'\n",
        "            elif char == 'a' and found_b:\n",
        "                # If we find 'a' after 'b' has been encountered, return false\n",
        "                return False\n",
        "\n",
        "        return True  # If no violations were found, return true\n"
      ]
    }
  ]
}