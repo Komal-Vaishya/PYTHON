{
  "nbformat": 4,
  "nbformat_minor": 0,
  "metadata": {
    "colab": {
      "provenance": [],
      "authorship_tag": "ABX9TyN9t4QlU3IPZXjdwJki2Kj4",
      "include_colab_link": true
    },
    "kernelspec": {
      "name": "python3",
      "display_name": "Python 3"
    },
    "language_info": {
      "name": "python"
    }
  },
  "cells": [
    {
      "cell_type": "markdown",
      "metadata": {
        "id": "view-in-github",
        "colab_type": "text"
      },
      "source": [
        "<a href=\"https://colab.research.google.com/github/Komal-Vaishya/PYTHON/blob/master/Assignment2_52.ipynb\" target=\"_parent\"><img src=\"https://colab.research.google.com/assets/colab-badge.svg\" alt=\"Open In Colab\"/></a>"
      ]
    },
    {
      "cell_type": "markdown",
      "source": [
        "Name:- Komal Rajeshkumar Vaishya  \n",
        "Class:- SE3  \n",
        "Roll no:- 52"
      ],
      "metadata": {
        "id": "xKCu0em3733G"
      }
    },
    {
      "cell_type": "code",
      "execution_count": 17,
      "metadata": {
        "colab": {
          "base_uri": "https://localhost:8080/"
        },
        "id": "r3Od9CCx3Mr7",
        "outputId": "62af4449-91f5-4ca2-bb49-9a461494be1a"
      },
      "outputs": [
        {
          "output_type": "stream",
          "name": "stdout",
          "text": [
            "2025-02-10 15:45:32 Net_Module Connection timeout from\n",
            "  192.168.1.10\n",
            "2025-02-10 17:12:05 Security_Module Unauthorized access detected from\n",
            "  10.0.0.5\n"
          ]
        }
      ],
      "source": [
        "import re\n",
        "\n",
        "def extract_critical_errors(log_data: str) -> None:\n",
        "  pattern = (\n",
        "      r'\\[([\\d-]+ [\\d:]+)\\] \\[ERROR\\] \\[([a-zA-Z0-9_]+)\\] '  # Date and module\n",
        "      r'(.*?(\\d{1,3}\\.){3}\\d{1,3}).*?'\n",
        "      r'Error Code:\\s*0x[0-9A-Fa-f]{8}'\n",
        "  )\n",
        "\n",
        "  matches = re.findall(pattern, log_data, re.DOTALL)\n",
        "\n",
        "  for match in matches:\n",
        "    # Print each match in the format you desire\n",
        "    print(f\"{match[0]} {match[1]} {match[2]}\")\n",
        "\n",
        "log_data = \"\"\"[2025-02-10 15:45:32] [ERROR] [Net_Module] Connection timeout from\n",
        "  192.168.1.10. Error Code: 0xAB12CD34\n",
        "[2025-02-10 17:12:05] [ERROR] [Security_Module] Unauthorized access detected from\n",
        "  10.0.0.5. Error Code: 0xDEADBEEF\n",
        "[2025-02-10 18:30:12] [WARNING] [Other_Module] Non-critical issue detected.\n",
        "[2025-02-10 19:00:00] [ERROR] [Net_Module] Connection lost from 256.100.10.10. Error\n",
        "  Code: 0x12345678\"\"\"\n",
        "\n",
        "extract_critical_errors(log_data)"
      ]
    }
  ]
}